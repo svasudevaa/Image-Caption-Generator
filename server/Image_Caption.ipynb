{
 "cells": [
  {
   "cell_type": "code",
   "execution_count": 2,
   "id": "2d489f4b",
   "metadata": {},
   "outputs": [
    {
     "name": "stdout",
     "output_type": "stream",
     "text": [
      "Defaulting to user installation because normal site-packages is not writeable\n",
      "Requirement already satisfied: np_utils in c:\\users\\vasud\\appdata\\roaming\\python\\python310\\site-packages (0.6.0)\n",
      "Requirement already satisfied: numpy>=1.0 in c:\\programdata\\anaconda3\\lib\\site-packages (from np_utils) (1.23.5)\n",
      "Note: you may need to restart the kernel to use updated packages.\n"
     ]
    },
    {
     "name": "stderr",
     "output_type": "stream",
     "text": [
      "WARNING: Ignoring invalid distribution -ensorflow-intel (c:\\users\\vasud\\appdata\\roaming\\python\\python310\\site-packages)\n",
      "WARNING: Ignoring invalid distribution -ensorflow-intel (c:\\users\\vasud\\appdata\\roaming\\python\\python310\\site-packages)\n",
      "WARNING: Ignoring invalid distribution -ensorflow-intel (c:\\users\\vasud\\appdata\\roaming\\python\\python310\\site-packages)\n",
      "WARNING: Ignoring invalid distribution -ensorflow-intel (c:\\users\\vasud\\appdata\\roaming\\python\\python310\\site-packages)\n",
      "WARNING: Ignoring invalid distribution -ensorflow-intel (c:\\users\\vasud\\appdata\\roaming\\python\\python310\\site-packages)\n",
      "WARNING: Ignoring invalid distribution -ensorflow-intel (c:\\users\\vasud\\appdata\\roaming\\python\\python310\\site-packages)\n"
     ]
    }
   ],
   "source": [
    "pip install np_utils\n"
   ]
  },
  {
   "cell_type": "code",
   "execution_count": 1,
   "id": "09604267",
   "metadata": {},
   "outputs": [
    {
     "name": "stdout",
     "output_type": "stream",
     "text": [
      "WARNING:tensorflow:From C:\\Users\\vasud\\AppData\\Roaming\\Python\\Python310\\site-packages\\keras\\src\\losses.py:2976: The name tf.losses.sparse_softmax_cross_entropy is deprecated. Please use tf.compat.v1.losses.sparse_softmax_cross_entropy instead.\n",
      "\n"
     ]
    }
   ],
   "source": [
    "from flask import Flask, request, jsonify\n",
    "# from flask import Flask, render_template,request\n",
    "import cv2\n",
    "from keras.models import load_model\n",
    "import numpy as np\n",
    "from keras.applications import ResNet50\n",
    "from keras.optimizers import Adam\n",
    "from keras.layers import Dense, Flatten,Input, Convolution2D, Dropout, LSTM, TimeDistributed, Embedding, Bidirectional, Activation, RepeatVector,Concatenate\n",
    "from keras.models import Sequential, Model\n",
    "# from keras.utils import np_utils\n",
    "from keras.preprocessing import image, sequence\n",
    "import cv2\n",
    "from tensorflow.keras.preprocessing.sequence import pad_sequences\n",
    "from tqdm import tqdm\n",
    "from keras_resnet.models import ResNet50\n",
    "from flask_cors import CORS"
   ]
  },
  {
   "cell_type": "code",
   "execution_count": 10,
   "id": "fcf3ccf6",
   "metadata": {},
   "outputs": [
    {
     "name": "stdout",
     "output_type": "stream",
     "text": [
      "Defaulting to user installation because normal site-packages is not writeableNote: you may need to restart the kernel to use updated packages.\n",
      "\n",
      "Collecting keras-resnet\n",
      "  Downloading keras-resnet-0.2.0.tar.gz (9.3 kB)\n",
      "  Preparing metadata (setup.py): started\n",
      "  Preparing metadata (setup.py): finished with status 'done'\n",
      "Requirement already satisfied: keras>=2.2.4 in c:\\users\\vasud\\appdata\\roaming\\python\\python310\\site-packages (from keras-resnet) (2.15.0)\n",
      "Building wheels for collected packages: keras-resnet\n",
      "  Building wheel for keras-resnet (setup.py): started\n",
      "  Building wheel for keras-resnet (setup.py): finished with status 'done'\n",
      "  Created wheel for keras-resnet: filename=keras_resnet-0.2.0-py2.py3-none-any.whl size=20465 sha256=079590afa465dec98fdaabfa6bbc3f115f1f40f1840a5840c37a92bbcf664131\n",
      "  Stored in directory: c:\\users\\vasud\\appdata\\local\\pip\\cache\\wheels\\57\\28\\4b\\831fdb9288330209f1e4662de4179e882f7e4776c8b4ca243c\n",
      "Successfully built keras-resnet\n",
      "Installing collected packages: keras-resnet\n",
      "Successfully installed keras-resnet-0.2.0\n"
     ]
    },
    {
     "name": "stderr",
     "output_type": "stream",
     "text": [
      "WARNING: Ignoring invalid distribution -ensorflow-intel (c:\\users\\vasud\\appdata\\roaming\\python\\python310\\site-packages)\n",
      "WARNING: Ignoring invalid distribution -ensorflow-intel (c:\\users\\vasud\\appdata\\roaming\\python\\python310\\site-packages)\n",
      "WARNING: Ignoring invalid distribution -ensorflow-intel (c:\\users\\vasud\\appdata\\roaming\\python\\python310\\site-packages)\n",
      "WARNING: Ignoring invalid distribution -ensorflow-intel (c:\\users\\vasud\\appdata\\roaming\\python\\python310\\site-packages)\n",
      "WARNING: Ignoring invalid distribution -ensorflow-intel (c:\\users\\vasud\\appdata\\roaming\\python\\python310\\site-packages)\n",
      "WARNING: Ignoring invalid distribution -ensorflow-intel (c:\\users\\vasud\\appdata\\roaming\\python\\python310\\site-packages)\n",
      "WARNING: Ignoring invalid distribution -ensorflow-intel (c:\\users\\vasud\\appdata\\roaming\\python\\python310\\site-packages)\n"
     ]
    }
   ],
   "source": [
    "pip install keras-resnet"
   ]
  },
  {
   "cell_type": "code",
   "execution_count": 13,
   "id": "b3ee8160",
   "metadata": {},
   "outputs": [
    {
     "ename": "TypeError",
     "evalue": "ResNet2D50.__init__() missing 1 required positional argument: 'inputs'",
     "output_type": "error",
     "traceback": [
      "\u001b[1;31m---------------------------------------------------------------------------\u001b[0m",
      "\u001b[1;31mTypeError\u001b[0m                                 Traceback (most recent call last)",
      "Cell \u001b[1;32mIn[13], line 1\u001b[0m\n\u001b[1;32m----> 1\u001b[0m resnet \u001b[38;5;241m=\u001b[39m \u001b[43mResNet50\u001b[49m\u001b[43m(\u001b[49m\u001b[43minclude_top\u001b[49m\u001b[38;5;241;43m=\u001b[39;49m\u001b[38;5;28;43;01mFalse\u001b[39;49;00m\u001b[43m,\u001b[49m\u001b[43m \u001b[49m\u001b[43mweights\u001b[49m\u001b[38;5;241;43m=\u001b[39;49m\u001b[38;5;124;43m'\u001b[39;49m\u001b[38;5;124;43mimagenet\u001b[39;49m\u001b[38;5;124;43m'\u001b[39;49m\u001b[43m,\u001b[49m\u001b[43minput_shape\u001b[49m\u001b[38;5;241;43m=\u001b[39;49m\u001b[43m(\u001b[49m\u001b[38;5;241;43m224\u001b[39;49m\u001b[43m,\u001b[49m\u001b[38;5;241;43m224\u001b[39;49m\u001b[43m,\u001b[49m\u001b[38;5;241;43m3\u001b[39;49m\u001b[43m)\u001b[49m\u001b[43m,\u001b[49m\u001b[43m \u001b[49m\u001b[43mpooling\u001b[49m\u001b[38;5;241;43m=\u001b[39;49m\u001b[38;5;124;43m'\u001b[39;49m\u001b[38;5;124;43mavg\u001b[39;49m\u001b[38;5;124;43m'\u001b[39;49m\u001b[43m)\u001b[49m\n\u001b[0;32m      3\u001b[0m \u001b[38;5;28mprint\u001b[39m(\u001b[38;5;124m\"\u001b[39m\u001b[38;5;124m=\u001b[39m\u001b[38;5;124m\"\u001b[39m\u001b[38;5;241m*\u001b[39m\u001b[38;5;241m50\u001b[39m)\n\u001b[0;32m      4\u001b[0m \u001b[38;5;28mprint\u001b[39m(\u001b[38;5;124m\"\u001b[39m\u001b[38;5;124mresnet loaded\u001b[39m\u001b[38;5;124m\"\u001b[39m)\n",
      "\u001b[1;31mTypeError\u001b[0m: ResNet2D50.__init__() missing 1 required positional argument: 'inputs'"
     ]
    }
   ],
   "source": [
    "resnet = ResNet50(include_top=False, weights='imagenet',input_shape=(224,224,3), pooling='avg')\n",
    "\n",
    "print(\"=\"*50)\n",
    "print(\"resnet loaded\")"
   ]
  },
  {
   "cell_type": "code",
   "execution_count": 2,
   "id": "315e0558",
   "metadata": {},
   "outputs": [],
   "source": [
    "vocab = np.load('vocab.npy', allow_pickle=True)"
   ]
  },
  {
   "cell_type": "code",
   "execution_count": 3,
   "id": "7cd5a923",
   "metadata": {},
   "outputs": [
    {
     "name": "stdout",
     "output_type": "stream",
     "text": [
      "WARNING:tensorflow:From C:\\Users\\vasud\\AppData\\Roaming\\Python\\Python310\\site-packages\\keras\\src\\backend.py:873: The name tf.get_default_graph is deprecated. Please use tf.compat.v1.get_default_graph instead.\n",
      "\n"
     ]
    }
   ],
   "source": [
    "vocab = vocab.item()\n",
    "\n",
    "inv_vocab = {v:k for k,v in vocab.items()}\n",
    "\n",
    "embedding_size = 128\n",
    "max_len = 40                      \n",
    "# max_len = 36                            #---------------- Changes\n",
    "vocab_size = len(vocab)\n",
    "\n",
    "image_model = Sequential()\n",
    "\n",
    "image_model.add(Dense(embedding_size, input_shape=(2048,), activation='relu'))\n",
    "image_model.add(RepeatVector(max_len))"
   ]
  },
  {
   "cell_type": "code",
   "execution_count": 4,
   "id": "1fec79e0",
   "metadata": {},
   "outputs": [],
   "source": [
    "language_model = Sequential()\n",
    "\n",
    "language_model.add(Embedding(input_dim=vocab_size, output_dim=embedding_size, input_length=max_len))\n",
    "language_model.add(LSTM(256, return_sequences=True))\n",
    "language_model.add(TimeDistributed(Dense(embedding_size)))"
   ]
  },
  {
   "cell_type": "code",
   "execution_count": 5,
   "id": "1550496a",
   "metadata": {},
   "outputs": [],
   "source": [
    "conca = Concatenate()([image_model.output, language_model.output])\n",
    "x = LSTM(128, return_sequences=True)(conca)\n",
    "x = LSTM(512, return_sequences=False)(x)\n",
    "x = Dense(vocab_size)(x)\n",
    "out = Activation('softmax')(x)\n",
    "model = Model(inputs=[image_model.input, language_model.input], outputs = out)"
   ]
  },
  {
   "cell_type": "code",
   "execution_count": 6,
   "id": "e6f58eb1",
   "metadata": {},
   "outputs": [
    {
     "name": "stdout",
     "output_type": "stream",
     "text": [
      "WARNING:tensorflow:From C:\\Users\\vasud\\AppData\\Roaming\\Python\\Python310\\site-packages\\keras\\src\\optimizers\\__init__.py:309: The name tf.train.Optimizer is deprecated. Please use tf.compat.v1.train.Optimizer instead.\n",
      "\n"
     ]
    }
   ],
   "source": [
    "model.compile(loss='categorical_crossentropy', optimizer='RMSprop', metrics=['accuracy'])"
   ]
  },
  {
   "cell_type": "code",
   "execution_count": 7,
   "id": "29230958",
   "metadata": {},
   "outputs": [],
   "source": [
    "model.load_weights('mine_model_weights.h5')"
   ]
  },
  {
   "cell_type": "code",
   "execution_count": 8,
   "id": "0929ea7d",
   "metadata": {},
   "outputs": [
    {
     "name": "stdout",
     "output_type": "stream",
     "text": [
      "==================================================\n",
      "model loaded\n"
     ]
    }
   ],
   "source": [
    "print(\"=\"*50)\n",
    "print(\"model loaded\")"
   ]
  },
  {
   "cell_type": "code",
   "execution_count": 9,
   "id": "c89c7c9e",
   "metadata": {},
   "outputs": [],
   "source": [
    "app = Flask(__name__)\n",
    "app.config['SEND_FILE_MAX_AGE_DEFAULT'] = 1\n",
    "cors = CORS(app, resources={r\"/*\": {\"origins\": \"*\"}})"
   ]
  },
  {
   "cell_type": "code",
   "execution_count": 10,
   "id": "36a86383",
   "metadata": {},
   "outputs": [],
   "source": [
    "@app.route('/after', methods=['POST'])\n",
    "def after():\n",
    "    global model,vocab,inv_vocab \n",
    "    file = request.files['file']\n",
    "\n",
    "    file.save('static/file.jpg')\n",
    "    img = cv2.imread('static/file.jpg')\n",
    "    img = cv2.cvtColor(img, cv2.COLOR_BGR2RGB)\n",
    "    img = cv2.resize(img,(224,224,))                    # diff\n",
    "    img = np.reshape(img,(1,224,224,3))\n",
    "\n",
    "    # img = image.load_img(file, target_size=(224, 224))\n",
    "    # x = image.img_to_array(img)\n",
    "    # x = np.expand_dims(x, axis=0)\n",
    "    # x = preprocess_input(x)   # ----- doubt\n",
    "\n",
    "    features = resnet.predict(img).reshape(1,2048)\n",
    "\n",
    "    print(\"=\"*50)\n",
    "    print(\"Predict Features\")\n",
    "\n",
    "\n",
    "    text_in = ['startofseq']\n",
    "\n",
    "    final = ''\n",
    "\n",
    "    print(\"=\"*50)\n",
    "    print(\"GETING Captions\")\n",
    "\n",
    "    count = 0\n",
    "    while tqdm(count < 20):\n",
    "\n",
    "        count += 1\n",
    "\n",
    "        encoded = []\n",
    "        for i in text_in:\n",
    "            encoded.append(vocab[i])\n",
    "\n",
    "        padded = pad_sequences([encoded], maxlen=max_len, padding='post', truncating='post').reshape(1,max_len)\n",
    "\n",
    "        sampled_index = np.argmax(model.predict([features, padded]))\n",
    "\n",
    "        sampled_word = inv_vocab[sampled_index]\n",
    "\n",
    "        if sampled_word != 'endofseq':\n",
    "            final = final + ' ' + sampled_word\n",
    "\n",
    "        text_in.append(sampled_word)\n",
    "\n",
    "\n",
    "    return jsonify({'caption': final})"
   ]
  },
  {
   "cell_type": "code",
   "execution_count": 11,
   "id": "eb7c9fb5",
   "metadata": {},
   "outputs": [
    {
     "name": "stdout",
     "output_type": "stream",
     "text": [
      " * Serving Flask app '__main__'\n",
      " * Debug mode: on\n"
     ]
    },
    {
     "name": "stderr",
     "output_type": "stream",
     "text": [
      "WARNING: This is a development server. Do not use it in a production deployment. Use a production WSGI server instead.\n",
      " * Running on http://127.0.0.1:5000\n",
      "Press CTRL+C to quit\n",
      " * Restarting with watchdog (windowsapi)\n"
     ]
    },
    {
     "ename": "SystemExit",
     "evalue": "1",
     "output_type": "error",
     "traceback": [
      "An exception has occurred, use %tb to see the full traceback.\n",
      "\u001b[1;31mSystemExit\u001b[0m\u001b[1;31m:\u001b[0m 1\n"
     ]
    },
    {
     "name": "stderr",
     "output_type": "stream",
     "text": [
      "C:\\Users\\vasud\\AppData\\Roaming\\Python\\Python310\\site-packages\\IPython\\core\\interactiveshell.py:3516: UserWarning: To exit: use 'exit', 'quit', or Ctrl-D.\n",
      "  warn(\"To exit: use 'exit', 'quit', or Ctrl-D.\", stacklevel=1)\n"
     ]
    }
   ],
   "source": [
    "if __name__ == \"__main__\":\n",
    "    app.run(debug=True)"
   ]
  },
  {
   "cell_type": "code",
   "execution_count": null,
   "id": "23c2176f",
   "metadata": {},
   "outputs": [],
   "source": []
  }
 ],
 "metadata": {
  "kernelspec": {
   "display_name": "Python 3 (ipykernel)",
   "language": "python",
   "name": "python3"
  },
  "language_info": {
   "codemirror_mode": {
    "name": "ipython",
    "version": 3
   },
   "file_extension": ".py",
   "mimetype": "text/x-python",
   "name": "python",
   "nbconvert_exporter": "python",
   "pygments_lexer": "ipython3",
   "version": "3.10.9"
  }
 },
 "nbformat": 4,
 "nbformat_minor": 5
}
